{
 "cells": [
  {
   "cell_type": "code",
   "execution_count": 23,
   "metadata": {
    "collapsed": true
   },
   "outputs": [
    {
     "name": "stdout",
     "output_type": "stream",
     "text": [
      "explainer.dill\n",
      "[12.03333333  0.48064394  0.87691585  0.          4.          1.\n",
      "  4.        ]\n",
      "{'names': ['passenger_count > 2.00'], 'precision': 1.0, 'coverage': 0.132, 'raw': {'feature': [6], 'mean': [1.0], 'precision': [1.0], 'coverage': [0.132], 'examples': [{'covered': array([[11.516666666666667, 0.4616559773487154, 0.8870590502205602,\n",
      "        False, 6, True, 5],\n",
      "       [21.1, 0.7702076520559399, 0.637793205290301, False, 3, True, 4],\n",
      "       [7.166666666666668, 0.29419306582201216, 0.9557460122973284,\n",
      "        False, 7, True, 4],\n",
      "       [16.65, 0.6394248723528648, 0.7688535833411473, False, 2, True, 3],\n",
      "       [10.05, 0.4066187736185968, 0.9135979273952564, False, 5, True, 3],\n",
      "       [11.2, 0.4499118805559996, 0.8930729531984294, False, 7, True, 4],\n",
      "       [16.2, 0.6248973167276998, 0.7807069511324469, False, 1, True, 3],\n",
      "       [5.15, 0.2129403362952331, 0.9770652041591048, False, 6, True, 5],\n",
      "       [6.6, 0.2715469369561128, 0.9624251976282379, False, 5, True, 3],\n",
      "       [14.366666666666667, 0.5634956296973571, 0.8261190442738741,\n",
      "        False, 1, True, 3]], dtype=object), 'covered_true': array([[14.783333333333333, 0.5777523347806918, 0.8162121290788685,\n",
      "        False, 1, True, 6],\n",
      "       [9.35, 0.37980300335690576, 0.9250673914051204, False, 7, True, 4],\n",
      "       [6.316666666666666, 0.2601663140536827, 0.9655638192433064, False,\n",
      "        6, True, 4],\n",
      "       [0.7166666666666667, 0.029856673520057293, 0.9995541901499472,\n",
      "        True, 6, True, 4],\n",
      "       [7.166666666666668, 0.29419306582201216, 0.9557460122973284,\n",
      "        False, 7, True, 4],\n",
      "       [5.783333333333332, 0.2386468703026441, 0.9711064160506576, False,\n",
      "        5, True, 4],\n",
      "       [16.983333333333334, 0.6500413790980932, 0.7598988126456371,\n",
      "        False, 7, True, 3],\n",
      "       [4.433333333333334, 0.18367348858745255, 0.9829873089669648,\n",
      "        False, 7, True, 5],\n",
      "       [8.733333333333333, 0.3559111590612432, 0.9345197947907162, False,\n",
      "        4, True, 6],\n",
      "       [10.8, 0.43496553411123023, 0.9004471023526769, False, 1, True, 4]],\n",
      "      dtype=object), 'covered_false': array([], shape=(0, 7), dtype=object), 'uncovered_true': array([], dtype=float64), 'uncovered_false': array([], dtype=float64)}], 'all_precision': 0, 'num_preds': 1000101, 'names': ['passenger_count > 2.00'], 'instance': array([12.03333333,  0.48064394,  0.87691585,  0.        ,  4.        ,\n",
      "        1.        ,  4.        ]), 'prediction': 1}, 'meta': {'name': 'AnchorTabular'}}\n"
     ]
    }
   ],
   "source": [
    "\n",
    "\n",
    "import mlflow.sklearn\n",
    "import dill\n",
    "from alibi.explainers import AnchorTabular\n",
    "import pandas as pd\n",
    "import numpy as np\n",
    "\n",
    "file_path=\"\"\n",
    "\n",
    "data = pd.read_csv(\"/tmp/data/training_data.csv\")\n",
    "X = data[data.columns[1:-1]]\n",
    "\n",
    "feature_names = X.columns.values\n",
    "X_train = X.values\n",
    "\n",
    "regressor = mlflow.sklearn.load_model(\"/tmp/demo/2/d9737fa54aa14719b58a538f2b88dcbe/artifacts/model\")\n",
    "predict_fn = lambda x: regressor.predict(x)\n",
    "\n",
    "with open(\"explainer.dill\", \"wb\") as file:\n",
    "    explainer = AnchorTabular(predict_fn, feature_names)\n",
    "    explainer.fit(X_train)\n",
    "\n",
    "    dill.dump(explainer, file)\n",
    "    file_path = file.name\n",
    "print(file_path)\n",
    "\n",
    "#probe = np. array([40.316667556762695, 0.5605325219195545, 0.350, 0, 3, 1, 5], dtype=float)\n",
    "\n",
    "\n",
    "probe = np.array(X_train[501], dtype=float)\n",
    "print(probe)\n",
    "explanation = explainer.explain(probe, threshold=0.99)\n",
    "\n",
    "print(explanation)\n",
    "\n",
    "#print('Anchor: %s' % (' AND '.join(explanation['names'])))\n",
    "#print('Prediction: %s' % explanation['.raw.prediction'])\n",
    "#print('Precision: %.2f' % explanation['precision'])\n",
    "#print('Coverage: %.2f' % explanation['coverage'])"
   ]
  },
  {
   "cell_type": "code",
   "execution_count": 1,
   "outputs": [
    {
     "name": "stdout",
     "output_type": "stream",
     "text": [
      "Python 3.7.4\r\n"
     ]
    }
   ],
   "source": [
    "!python --version"
   ],
   "metadata": {
    "collapsed": false,
    "pycharm": {
     "name": "#%%\n"
    }
   }
  },
  {
   "cell_type": "code",
   "execution_count": null,
   "outputs": [],
   "source": [
    "\n"
   ],
   "metadata": {
    "collapsed": false,
    "pycharm": {
     "name": "#%%\n"
    }
   }
  }
 ],
 "metadata": {
  "kernelspec": {
   "name": "python3",
   "language": "python",
   "display_name": "Python 3"
  },
  "language_info": {
   "codemirror_mode": {
    "name": "ipython",
    "version": 2
   },
   "file_extension": ".py",
   "mimetype": "text/x-python",
   "name": "python",
   "nbconvert_exporter": "python",
   "pygments_lexer": "ipython2",
   "version": "2.7.6"
  }
 },
 "nbformat": 4,
 "nbformat_minor": 0
}