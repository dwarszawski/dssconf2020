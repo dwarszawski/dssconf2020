{
 "cells": [
  {
   "cell_type": "code",
   "execution_count": 16,
   "metadata": {
    "collapsed": true
   },
   "outputs": [
    {
     "name": "stdout",
     "output_type": "stream",
     "text": [
      "explainer.dill\n",
      "[17.75       -0.89100584  0.45399184  0.          5.          1.\n",
      "  1.        ]\n",
      "{'names': ['passenger_count <= 2.00'], 'precision': 0.0, 'coverage': 0.8516, 'raw': {'feature': [6], 'mean': [0.0], 'precision': [0.0], 'coverage': [0.8516], 'examples': [{'covered': array([[18.516666666666666, -0.32677502952096177, 0.945102153252004,\n",
      "        False, 5, True, 1],\n",
      "       [19.28333333333333, 0.42030135807964397, 0.90738457579816, False,\n",
      "        5, True, 1],\n",
      "       [19.3, 0.4353653603728932, 0.9002538547473045, False, 5, True, 1],\n",
      "       [18.166666666666668, -0.6310370021434246, 0.7757527324643075,\n",
      "        False, 5, True, 1],\n",
      "       [17.683333333333334, -0.9192702686533636, 0.3936269467020425,\n",
      "        False, 5, True, 1],\n",
      "       [19.133333333333333, 0.279983970443764, 0.9600046751420253, False,\n",
      "        5, True, 1],\n",
      "       [19.933333333333334, 0.8837319117229787, 0.4679934916240282,\n",
      "        False, 5, True, 2],\n",
      "       [18.883333333333333, 0.03377098930983982, 0.9994295974609892,\n",
      "        False, 5, True, 1],\n",
      "       [19.33333333333333, 0.4651264181338188, 0.8852442686366312, False,\n",
      "        5, True, 1],\n",
      "       [20.75, 0.9461564284508708, -0.3237097664592346, False, 5, True,\n",
      "        2]], dtype=object), 'covered_true': array([], shape=(0, 7), dtype=object), 'covered_false': array([[19.416666666666668, 0.5371973332570039, 0.8434565935135984,\n",
      "        False, 5, True, 1],\n",
      "       [19.45, 0.5650089314775141, 0.8250847879767497, False, 5, True, 2],\n",
      "       [19.816666666666666, 0.8232489782007609, 0.5676804734103533,\n",
      "        False, 5, True, 1],\n",
      "       [18.416666666666668, -0.4194952925216266, 0.9077575114270302,\n",
      "        False, 5, True, 1],\n",
      "       [19.983333333333334, 0.9060174028881196, 0.42324043481674417,\n",
      "        False, 5, True, 1],\n",
      "       [19.2, 0.3433149288198954, 0.9392203466968708, False, 5, True, 1],\n",
      "       [18.233333333333334, -0.5779566684230948, 0.816067453967671,\n",
      "        False, 5, True, 2],\n",
      "       [19.733333333333334, 0.7731401566540487, 0.6342352072921789,\n",
      "        False, 5, True, 2],\n",
      "       [18.483333333333334, -0.358091076115277, 0.9336866611484834,\n",
      "        False, 5, True, 1],\n",
      "       [18.28333333333333, -0.5364479996664308, 0.8439333763123041,\n",
      "        False, 5, True, 2]], dtype=object), 'uncovered_true': array([], dtype=float64), 'uncovered_false': array([], dtype=float64)}], 'all_precision': 0, 'num_preds': 1000001, 'names': ['passenger_count <= 2.00'], 'instance': array([17.75      , -0.89100584,  0.45399184,  0.        ,  5.        ,\n",
      "        1.        ,  1.        ]), 'prediction': 0.014660171151223419}, 'meta': {'name': 'AnchorTabular'}}\n"
     ]
    }
   ],
   "source": [
    "import mlflow.sklearn\n",
    "import dill\n",
    "from alibi.explainers import AnchorTabular\n",
    "import pandas as pd\n",
    "import numpy as np\n",
    "\n",
    "file_path=\"\"\n",
    "\n",
    "data = pd.read_csv(\"data/02_features/features.csv\")\n",
    "X = data[[\n",
    "    'pickup_hour',\n",
    "    'sin_pickup_hour',\n",
    "    'cos_pickup_hour',\n",
    "    'night_hours',\n",
    "    'weekday',\n",
    "    'weekend',\n",
    "    'passenger_count'\n",
    "]]\n",
    "\n",
    "feature_names = X.columns.values\n",
    "X_train = X.values\n",
    "\n",
    "regressor = mlflow.sklearn.load_model(\"/tmp/demo/1/1a298736adee4bc098f0564084f32b4c/artifacts/model\")\n",
    "predict_fn = lambda x: regressor.predict(x)\n",
    "\n",
    "with open(\"explainer.dill\", \"wb\") as file:\n",
    "    explainer = AnchorTabular(predict_fn, feature_names)\n",
    "    explainer.fit(X_train)\n",
    "\n",
    "    dill.dump(explainer, file)\n",
    "    file_path = file.name\n",
    "print(file_path)\n",
    "\n",
    "#probe = np. array([40.316667556762695, 0.5605325219195545, 0.350, 0, 3, 1, 5], dtype=float)\n",
    "\n",
    "\n",
    "probe = np.array(X_train[500], dtype=float)\n",
    "print(probe)\n",
    "explanation = explainer.explain(probe, threshold=0)\n",
    "\n",
    "print(explanation)\n",
    "\n",
    "#print('Anchor: %s' % (' AND '.join(explanation['names'])))\n",
    "#print('Prediction: %s' % explanation['.raw.prediction'])\n",
    "#print('Precision: %.2f' % explanation['precision'])\n",
    "#print('Coverage: %.2f' % explanation['coverage'])"
   ]
  }
 ],
 "metadata": {
  "kernelspec": {
   "name": "python3",
   "language": "python",
   "display_name": "Python 3"
  },
  "language_info": {
   "codemirror_mode": {
    "name": "ipython",
    "version": 2
   },
   "file_extension": ".py",
   "mimetype": "text/x-python",
   "name": "python",
   "nbconvert_exporter": "python",
   "pygments_lexer": "ipython2",
   "version": "2.7.6"
  }
 },
 "nbformat": 4,
 "nbformat_minor": 0
}