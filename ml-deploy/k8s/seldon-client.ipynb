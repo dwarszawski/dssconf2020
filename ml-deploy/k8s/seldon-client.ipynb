{
 "cells": [
  {
   "cell_type": "markdown",
   "metadata": {
    "collapsed": true,
    "pycharm": {
     "name": "#%% md\n"
    }
   },
   "source": [
    "## Serve trained model on your local machine"
   ]
  },
  {
   "cell_type": "markdown",
   "metadata": {},
   "source": [
    "### Prepare infrastructure in minikube"
   ]
  },
  {
   "cell_type": "markdown",
   "metadata": {
    "pycharm": {
     "name": "#%% md\n"
    }
   },
   "source": [
    "#### ensure starting from scratch"
   ]
  },
  {
   "cell_type": "code",
   "execution_count": 1,
   "metadata": {
    "pycharm": {
     "name": "#%%\n"
    }
   },
   "outputs": [
    {
     "name": "stdout",
     "output_type": "stream",
     "text": [
      "🔥  Deleting \"minikube\" in docker ...\r\n",
      "🔥  Removing /home/dwarszawski/.minikube/machines/minikube ...\r\n",
      "💀  Removed all traces of the \"minikube\" cluster.\r\n",
      "🔥  Successfully deleted all profiles\r\n",
      "💀  Successfully purged minikube directory located at - [/home/dwarszawski/.minikube]\r\n"
     ]
    }
   ],
   "source": [
    "!minikube delete --all --purge\n"
   ]
  },
  {
   "cell_type": "markdown",
   "metadata": {
    "pycharm": {
     "name": "#%% md\n"
    }
   },
   "source": [
    "#### check minikube status"
   ]
  },
  {
   "cell_type": "code",
   "execution_count": 43,
   "metadata": {
    "pycharm": {
     "name": "#%%\n"
    }
   },
   "outputs": [
    {
     "name": "stdout",
     "output_type": "stream",
     "text": [
      "🤷  There is no local cluster named \"minikube\"\r\n",
      "👉  To fix this, run: \"minikube start\"\r\n"
     ]
    }
   ],
   "source": [
    "!minikube status"
   ]
  },
  {
   "cell_type": "markdown",
   "metadata": {},
   "source": [
    "#### start minikube"
   ]
  },
  {
   "cell_type": "code",
   "execution_count": 1,
   "metadata": {
    "pycharm": {
     "name": "#%%\n"
    }
   },
   "outputs": [
    {
     "name": "stdout",
     "output_type": "stream",
     "text": [
      "😄  minikube v1.11.0 on Ubuntu 20.04\n",
      "✨  Using the docker driver based on existing profile\n",
      "🆕  Kubernetes 1.18.3 is now available. If you would like to upgrade, specify: --kubernetes-version=v1.18.3\n",
      "🆕  Kubernetes 1.18.3 is now available. If you would like to upgrade, specify: --kubernetes-version=v1.18.3\n",
      "🆕  Kubernetes 1.18.3 is now available. If you would like to upgrade, specify: --kubernetes-version=v1.18.3\n",
      "🆕  Kubernetes 1.18.3 is now available. If you would like to upgrade, specify: --kubernetes-version=v1.18.3\n",
      "👍  Starting control plane node minikube in cluster minikube\n",
      "🔄  Restarting existing docker container for \"minikube\" ...\n",
      "🎉  minikube 1.13.1 is available! Download it: https://github.com/kubernetes/minikube/releases/tag/v1.13.1\n",
      "💡  To disable this notice, run: 'minikube config set WantUpdateNotification false'\n",
      "\n",
      "🐳  Preparing Kubernetes v1.17.0 on Docker 19.03.2 ...\n",
      "    ▪ kubeadm.pod-network-cidr=10.244.0.0/16\n",
      "🔎  Verifying Kubernetes components...\n",
      "🌟  Enabled addons: ambassador, default-storageclass, storage-provisioner\n",
      "🏄  Done! kubectl is now configured to use \"minikube\"\n",
      "\n",
      "❗  /usr/local/bin/kubectl is version 1.11.0+d4cacc0, which may be incompatible with Kubernetes 1.17.0.\n",
      "💡  You can also use 'minikube kubectl -- get pods' to invoke a matching version\n"
     ]
    }
   ],
   "source": [
    "!minikube start --kubernetes-version v1.17.0"
   ]
  },
  {
   "cell_type": "code",
   "execution_count": 45,
   "metadata": {
    "pycharm": {
     "name": "#%%\n"
    }
   },
   "outputs": [
    {
     "name": "stdout",
     "output_type": "stream",
     "text": [
      "minikube\r\n",
      "type: Control Plane\r\n",
      "host: Running\r\n",
      "kubelet: Running\r\n",
      "apiserver: Running\r\n",
      "kubeconfig: Configured\r\n",
      "\r\n"
     ]
    }
   ],
   "source": [
    "!minikube status\n"
   ]
  },
  {
   "cell_type": "markdown",
   "metadata": {},
   "source": [
    "#### switch kubectl context to use minikube cluster"
   ]
  },
  {
   "cell_type": "code",
   "execution_count": 4,
   "metadata": {
    "pycharm": {
     "name": "#%%\n"
    }
   },
   "outputs": [
    {
     "name": "stdout",
     "output_type": "stream",
     "text": [
      "minikube\r\n"
     ]
    }
   ],
   "source": [
    "!kubectl config current-context"
   ]
  },
  {
   "cell_type": "markdown",
   "metadata": {},
   "source": [
    "#### create namespace to be used for installing seldon operator"
   ]
  },
  {
   "cell_type": "code",
   "execution_count": 5,
   "metadata": {
    "pycharm": {
     "name": "#%%\n"
    }
   },
   "outputs": [
    {
     "name": "stdout",
     "output_type": "stream",
     "text": [
      "NAME       \tNAMESPACE\tREVISION\tUPDATED                                 \tSTATUS  \tCHART                     \tAPP VERSION\r\n",
      "seldon-core\tseldon   \t1       \t2020-09-25 23:56:47.572732655 +0200 CEST\tdeployed\tseldon-core-operator-1.2.3\t           \r\n"
     ]
    }
   ],
   "source": [
    "!helm list  --namespace seldon"
   ]
  },
  {
   "cell_type": "code",
   "execution_count": 3,
   "metadata": {
    "pycharm": {
     "name": "#%%\n"
    }
   },
   "outputs": [
    {
     "name": "stdout",
     "output_type": "stream",
     "text": [
      "namespace/seldon created\r\n"
     ]
    }
   ],
   "source": [
    "!kubectl create namespace seldon\n"
   ]
  },
  {
   "cell_type": "code",
   "execution_count": 4,
   "metadata": {
    "pycharm": {
     "name": "#%%\n"
    }
   },
   "outputs": [
    {
     "name": "stdout",
     "output_type": "stream",
     "text": [
      "NAME: seldon-core\r\n",
      "LAST DEPLOYED: Mon Sep 28 09:58:40 2020\r\n",
      "NAMESPACE: seldon\r\n",
      "STATUS: deployed\r\n",
      "REVISION: 1\r\n",
      "TEST SUITE: None\r\n"
     ]
    }
   ],
   "source": [
    "!helm install seldon-core seldon-core-operator \\\n",
    "    --repo https://storage.googleapis.com/seldon-charts \\\n",
    "    --set usageMetrics.enabled=true \\\n",
    "    --set ambassador.enabled=true \\\n",
    "    --namespace seldon"
   ]
  },
  {
   "cell_type": "markdown",
   "metadata": {},
   "source": [
    "#### Enable ambassador in minikube"
   ]
  },
  {
   "cell_type": "code",
   "execution_count": 5,
   "metadata": {
    "pycharm": {
     "name": "#%%\n"
    }
   },
   "outputs": [
    {
     "name": "stdout",
     "output_type": "stream",
     "text": [
      "🌟  The 'ambassador' addon is enabled\r\n"
     ]
    }
   ],
   "source": [
    "!minikube addons enable ambassador"
   ]
  },
  {
   "cell_type": "markdown",
   "metadata": {},
   "source": [
    "#### Required by Ambassador to expose endpoint"
   ]
  },
  {
   "cell_type": "code",
   "execution_count": null,
   "metadata": {
    "pycharm": {
     "name": "#%%\n"
    }
   },
   "outputs": [],
   "source": [
    "#!minikube tunnel"
   ]
  },
  {
   "cell_type": "markdown",
   "metadata": {},
   "source": [
    "#### Secrets to authenticate for artifacts available in GCP storage"
   ]
  },
  {
   "cell_type": "code",
   "execution_count": 41,
   "metadata": {
    "pycharm": {
     "name": "#%%\n"
    }
   },
   "outputs": [
    {
     "name": "stdout",
     "output_type": "stream",
     "text": [
      "Error from server (AlreadyExists): secrets \"user-gcp-sa\" already exists\r\n"
     ]
    }
   ],
   "source": [
    "#!gcloud auth activate-service-account --key-file spark-bigdl-845ec4674852.json\n",
    "!kubectl create secret generic user-gcp-sa --namespace seldon --from-file=gcloud-application-credentials.json=spark-bigdl-845ec4674852.json"
   ]
  },
  {
   "cell_type": "code",
   "execution_count": 56,
   "metadata": {
    "pycharm": {
     "name": "#%%\n"
    }
   },
   "outputs": [
    {
     "name": "stdout",
     "output_type": "stream",
     "text": [
      "secret \"user-gcp-sa\" deleted\r\n"
     ]
    }
   ],
   "source": [
    "#!kubectl delete secret user-gcp-sa --namespace seldon"
   ]
  },
  {
   "cell_type": "markdown",
   "metadata": {},
   "source": [
    "#### Service account with secrets assigned"
   ]
  },
  {
   "cell_type": "code",
   "execution_count": 7,
   "metadata": {
    "pycharm": {
     "name": "#%%\n"
    }
   },
   "outputs": [
    {
     "name": "stdout",
     "output_type": "stream",
     "text": [
      "serviceaccount/user-gcp-sa created\r\n"
     ]
    }
   ],
   "source": [
    "!kubectl apply -f service-account.yaml --namespace seldon\n",
    "\n"
   ]
  },
  {
   "cell_type": "code",
   "execution_count": 37,
   "metadata": {
    "pycharm": {
     "name": "#%%\n"
    }
   },
   "outputs": [
    {
     "name": "stdout",
     "output_type": "stream",
     "text": [
      "serviceaccount/user-gcp-sa configured\r\n"
     ]
    }
   ],
   "source": [
    "#!kubectl delete sa user-gcp-sa --namespace seldon"
   ]
  },
  {
   "cell_type": "markdown",
   "metadata": {},
   "source": [
    "### Serve your model and explainer with REST API"
   ]
  },
  {
   "cell_type": "code",
   "execution_count": 8,
   "metadata": {
    "pycharm": {
     "name": "#%%\n"
    }
   },
   "outputs": [
    {
     "name": "stdout",
     "output_type": "stream",
     "text": [
      "seldondeployment.machinelearning.seldon.io/dssconf2020 created\r\n"
     ]
    }
   ],
   "source": [
    "!kubectl apply -f seldon-deployment.yaml"
   ]
  },
  {
   "cell_type": "markdown",
   "metadata": {
    "pycharm": {
     "name": "#%% md\n"
    }
   },
   "source": [
    "#### Check ambassador endpoint"
   ]
  },
  {
   "cell_type": "code",
   "execution_count": 2,
   "metadata": {
    "pycharm": {
     "name": "#%%\n"
    }
   },
   "outputs": [
    {
     "name": "stdout",
     "output_type": "stream",
     "text": [
      "NAME                          TYPE           CLUSTER-IP      EXTERNAL-IP   PORT(S)                      AGE\r\n",
      "ambassador                    LoadBalancer   10.96.26.63     10.96.26.63   80:32180/TCP,443:30424/TCP   37h\r\n",
      "ambassador-admin              ClusterIP      10.96.248.223   <none>        8877/TCP                     37h\r\n",
      "ambassador-operator-metrics   ClusterIP      10.96.25.232    <none>        8383/TCP,8686/TCP            37h\r\n"
     ]
    }
   ],
   "source": [
    "!kubectl get services --namespace ambassador"
   ]
  },
  {
   "cell_type": "markdown",
   "metadata": {},
   "source": [
    "#### Verify if prediction endpoint exposed with sample input"
   ]
  },
  {
   "cell_type": "code",
   "execution_count": 9,
   "metadata": {
    "pycharm": {
     "name": "#%%\n"
    }
   },
   "outputs": [
    {
     "name": "stdout",
     "output_type": "stream",
     "text": [
      "{\"data\":{\"names\":[],\"ndarray\":[0.014660171157941985]},\"meta\":{}}\r\n"
     ]
    }
   ],
   "source": [
    "#!curl -v localhost:9000/api/v1.0/predictions -H \"Content-Type: application/json\" -d '{\"data\": {\"ndarray\": [[4.0, 0.166, 0.986, 0.0, 2.0, 0.0, 1.0]]}}'\n",
    "\n",
    "!curl http://10.96.26.63/seldon/seldon/dssconf2020/api/v1.0/predictions -H \\\n",
    "    \"Content-Type: application/json\" \\\n",
    "    -d '{\"data\": {\"ndarray\": [[17.75, -0.89100584, 0.45399184, 0.0, 5.0, 1.0, 1.0]]}}'"
   ]
  },
  {
   "cell_type": "markdown",
   "metadata": {},
   "source": [
    "#### Get explanation for prediction"
   ]
  },
  {
   "cell_type": "code",
   "execution_count": 10,
   "metadata": {
    "pycharm": {
     "name": "#%%\n"
    }
   },
   "outputs": [
    {
     "name": "stdout",
     "output_type": "stream",
     "text": [
      "  % Total    % Received % Xferd  Average Speed   Time    Time     Time  Current\n",
      "                                 Dload  Upload   Total   Spent    Left  Speed\n",
      "100 40216  100 40139  100    77  27102     51  0:00:01  0:00:01 --:--:-- 27136\n",
      "\u001b[1;39m[\n",
      "  \u001b[0;32m\"passenger_count <= 1.00\"\u001b[0m\u001b[1;39m,\n",
      "  \u001b[0;32m\"weekend <= 1.00\"\u001b[0m\u001b[1;39m,\n",
      "  \u001b[0;32m\"sin_pickup_hour <= -0.52\"\u001b[0m\u001b[1;39m,\n",
      "  \u001b[0;32m\"pickup_hour <= 18.30\"\u001b[0m\u001b[1;39m,\n",
      "  \u001b[0;32m\"weekday <= 5.00\"\u001b[0m\u001b[1;39m,\n",
      "  \u001b[0;32m\"cos_pickup_hour <= 0.50\"\u001b[0m\u001b[1;39m,\n",
      "  \u001b[0;32m\"night_hours <= 0.00\"\u001b[0m\u001b[1;39m\n",
      "\u001b[1;39m]\u001b[0m\n",
      "\u001b[0;39m0.014660171157941985\u001b[0m\n",
      "\u001b[1;39m[\n",
      "  \u001b[0;39m0\u001b[0m\u001b[1;39m,\n",
      "  \u001b[0;39m0\u001b[0m\u001b[1;39m,\n",
      "  \u001b[0;39m0\u001b[0m\u001b[1;39m,\n",
      "  \u001b[0;39m0\u001b[0m\u001b[1;39m,\n",
      "  \u001b[0;39m0\u001b[0m\u001b[1;39m,\n",
      "  \u001b[0;39m0\u001b[0m\u001b[1;39m,\n",
      "  \u001b[0;39m0\u001b[0m\u001b[1;39m,\n",
      "  \u001b[0;39m0\u001b[0m\u001b[1;39m,\n",
      "  \u001b[0;39m0\u001b[0m\u001b[1;39m,\n",
      "  \u001b[0;39m0\u001b[0m\u001b[1;39m,\n",
      "  \u001b[0;39m0\u001b[0m\u001b[1;39m,\n",
      "  \u001b[0;39m0\u001b[0m\u001b[1;39m,\n",
      "  \u001b[0;39m0\u001b[0m\u001b[1;39m,\n",
      "  \u001b[0;39m0\u001b[0m\u001b[1;39m\n",
      "\u001b[1;39m]\u001b[0m\n"
     ]
    }
   ],
   "source": [
    "!curl  http://10.96.26.63/seldon/seldon/dssconf2020-explainer/default/api/v1.0/explain \\\n",
    "    -H \"Content-Type: application/json\" \\\n",
    "    -d '{\"data\": {\"ndarray\": [[17.75, -0.89100584, 0.45399184, 0.0, 5.0, 1.0, 1.0]]}}' | \\\n",
    "    jq  '.names,.raw.prediction,.raw.precision'\n"
   ]
  },
  {
   "cell_type": "code",
   "execution_count": 32,
   "metadata": {
    "pycharm": {
     "name": "#%%\n"
    }
   },
   "outputs": [
    {
     "name": "stdout",
     "output_type": "stream",
     "text": [
      "*   Trying 127.0.0.1:80...\r\n",
      "* TCP_NODELAY set\r\n",
      "* connect to 127.0.0.1 port 80 failed: Connection refused\r\n",
      "* Failed to connect to localhost port 80: Connection refused\r\n",
      "* Closing connection 0\r\n",
      "curl: (7) Failed to connect to localhost port 80: Connection refused\r\n"
     ]
    }
   ],
   "source": [
    "!kubectl get pods --namespace seldon"
   ]
  },
  {
   "cell_type": "code",
   "execution_count": null,
   "metadata": {
    "pycharm": {
     "name": "#%%\n"
    }
   },
   "outputs": [],
   "source": [
    "!kubectl get pods --namespace seldo"
   ]
  },
  {
   "cell_type": "code",
   "execution_count": 23,
   "metadata": {
    "pycharm": {
     "name": "#%%\n"
    }
   },
   "outputs": [
    {
     "name": "stdout",
     "output_type": "stream",
     "text": [
      "seldondeployment.machinelearning.seldon.io/dssconf2020 created\r\n"
     ]
    }
   ],
   "source": [
    "!helm delete seldon-core --namespace seldon\n",
    "!kubectl delete crds --all\n"
   ]
  },
  {
   "cell_type": "code",
   "execution_count": null,
   "metadata": {
    "pycharm": {
     "name": "#%%\n"
    }
   },
   "outputs": [],
   "source": [
    "!kubectl get pods --namespace seldo"
   ]
  },
  {
   "cell_type": "markdown",
   "metadata": {},
   "source": [
    "#### Clean up minikube"
   ]
  },
  {
   "cell_type": "code",
   "execution_count": null,
   "metadata": {
    "pycharm": {
     "name": "#%%\n"
    }
   },
   "outputs": [],
   "source": [
    "!helm delete seldon-core --namespace seldon\n",
    "!kubectl delete crds --all"
   ]
  }
 ],
 "metadata": {
  "kernelspec": {
   "display_name": "Python 3",
   "language": "python",
   "name": "python3"
  },
  "language_info": {
   "codemirror_mode": {
    "name": "ipython",
    "version": 3
   },
   "file_extension": ".py",
   "mimetype": "text/x-python",
   "name": "python",
   "nbconvert_exporter": "python",
   "pygments_lexer": "ipython3",
   "version": "3.7.4"
  }
 },
 "nbformat": 4,
 "nbformat_minor": 1
}
